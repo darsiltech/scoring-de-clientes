{
  "nbformat": 4,
  "nbformat_minor": 0,
  "metadata": {
    "colab": {
      "provenance": [],
      "authorship_tag": "ABX9TyMncexRYUh8VFAXuBmWgsYs",
      "include_colab_link": true
    },
    "kernelspec": {
      "name": "python3",
      "display_name": "Python 3"
    },
    "language_info": {
      "name": "python"
    }
  },
  "cells": [
    {
      "cell_type": "markdown",
      "metadata": {
        "id": "view-in-github",
        "colab_type": "text"
      },
      "source": [
        "<a href=\"https://colab.research.google.com/github/darsiltech/scoring-de-clientes/blob/main/Copia_de_scoring_de_clientes.ipynb\" target=\"_parent\"><img src=\"https://colab.research.google.com/assets/colab-badge.svg\" alt=\"Open In Colab\"/></a>"
      ]
    },
    {
      "cell_type": "markdown",
      "source": [
        "##Scoring de Clientes\n",
        "\n",
        "Basandome en un dataset real de un empresa financiera tomando el historico de 100 clientes activos hasta estos dias, busco crear una herramienta que me permita un mejor analisis comercial y de riesgo.\n",
        "\n",
        "Los datos estan en un excel q esta subudo en dive:\n",
        "https://docs.google.com/spreadsheets/d/11zQYsr3FVpSwXC5dZ-izM1UQqE5OtI6T/edit?usp=drive_link&ouid=115500018994462773408&rtpof=true&sd=true\n"
      ],
      "metadata": {
        "id": "u2C5isPUEvOm"
      }
    },
    {
      "cell_type": "code",
      "source": [],
      "metadata": {
        "id": "oqsxSAo7GenX"
      },
      "execution_count": null,
      "outputs": []
    },
    {
      "cell_type": "markdown",
      "source": [
        "Importacion de libreria y dataset"
      ],
      "metadata": {
        "id": "lABoHEBCF-M9"
      }
    },
    {
      "cell_type": "code",
      "source": [
        "import pandas as pd\n",
        "import seaborn as sns\n",
        "import matplotlib.pyplot as plt\n",
        "from google.colab import drive"
      ],
      "metadata": {
        "id": "053o1xYY289J"
      },
      "execution_count": 13,
      "outputs": []
    },
    {
      "cell_type": "code",
      "source": [
        "from google.colab import drive\n",
        "drive.mount('/content/drive')"
      ],
      "metadata": {
        "colab": {
          "base_uri": "https://localhost:8080/"
        },
        "id": "U_lp7nVf4NJk",
        "outputId": "810bff00-a8a6-4cf4-eddd-19c256d7aa4f"
      },
      "execution_count": 14,
      "outputs": [
        {
          "output_type": "stream",
          "name": "stdout",
          "text": [
            "Drive already mounted at /content/drive; to attempt to forcibly remount, call drive.mount(\"/content/drive\", force_remount=True).\n"
          ]
        }
      ]
    },
    {
      "cell_type": "code",
      "source": [
        "import pandas as pd\n",
        "df = pd.read_excel(\"/content/drive/MyDrive/Colab Notebooks/100 casos.xlsx\")\n",
        "df.shape"
      ],
      "metadata": {
        "colab": {
          "base_uri": "https://localhost:8080/"
        },
        "id": "GdZ_wXU14suR",
        "outputId": "d1b5a060-552f-4c6e-fd1d-6e4e3f977341"
      },
      "execution_count": 15,
      "outputs": [
        {
          "output_type": "execute_result",
          "data": {
            "text/plain": [
              "(674, 24)"
            ]
          },
          "metadata": {},
          "execution_count": 15
        }
      ]
    },
    {
      "cell_type": "markdown",
      "source": [
        "Tipos de Datos"
      ],
      "metadata": {
        "id": "QjKp6pOG5opb"
      }
    },
    {
      "cell_type": "code",
      "source": [
        "print('\\nLostipos de datos son de tipo:\\n',df.dtypes)"
      ],
      "metadata": {
        "colab": {
          "base_uri": "https://localhost:8080/"
        },
        "id": "3L1xlKV350sP",
        "outputId": "601152ab-6298-4d95-90c9-2f34878424b6"
      },
      "execution_count": 16,
      "outputs": [
        {
          "output_type": "stream",
          "name": "stdout",
          "text": [
            "\n",
            "Lostipos de datos son de tipo:\n",
            " Cod Age                             int64\n",
            "Agencia                            object\n",
            "ID_CI                               int64\n",
            "Solicitud                           int64\n",
            "Aceptada                   datetime64[ns]\n",
            "Producto                            int64\n",
            "Nombre                             object\n",
            "Tasa                              float64\n",
            "Cap. solicitado                   float64\n",
            "Cap. liquido                      float64\n",
            "Cuotas                              int64\n",
            "Mto Cuota                           int64\n",
            "Familia                            object\n",
            "Edad                                int64\n",
            "Sexo                               object\n",
            "Profesión                          object\n",
            "Empresa                            object\n",
            "Cant. Solic. Vigentes               int64\n",
            "Cant. Solic. Canceladas             int64\n",
            "Departamento                       object\n",
            "Localidad                          object\n",
            "Tipo de Venta                      object\n",
            "Capital en mano                   float64\n",
            "Origen                             object\n",
            "dtype: object\n"
          ]
        }
      ]
    },
    {
      "cell_type": "markdown",
      "source": [
        "Primeras 5 filas"
      ],
      "metadata": {
        "id": "WBfJ8bLT6tEn"
      }
    },
    {
      "cell_type": "code",
      "source": [
        "df.head(5)"
      ],
      "metadata": {
        "colab": {
          "base_uri": "https://localhost:8080/",
          "height": 481
        },
        "id": "mm7hd5mp6vHT",
        "outputId": "61ec3e78-6fbe-42b7-88f4-d3c2bf0feea9"
      },
      "execution_count": 17,
      "outputs": [
        {
          "output_type": "execute_result",
          "data": {
            "text/plain": [
              "   Cod Age                         Agencia  ID_CI  Solicitud   Aceptada  \\\n",
              "0        9  Bella Unión                      7386       8351 2004-08-26   \n",
              "1        9  Bella Unión                      7386      13994 2005-03-21   \n",
              "2       10  Paysandú                        11854      15914 2005-05-10   \n",
              "3        9  Bella Unión                      7386      25442 2005-11-17   \n",
              "4        8  Colonia                         10116      26530 2005-12-06   \n",
              "\n",
              "   Producto                    Nombre   Tasa  Cap. solicitado  Cap. liquido  \\\n",
              "0        76       PROM JULIO/04 $3000  70.00           3195.0        3000.0   \n",
              "1        52  BUEN CLIENTE 13-18 COOP,  63.47           5575.0        5000.0   \n",
              "2        49       STANDAR 07-12 COOP,  75.80           4500.0        4000.0   \n",
              "3       127         PROMO 5000 SET 05  55.00           5225.0        5000.0   \n",
              "4       134         PROMO NOV 05 6000  52.20           6270.0        6000.0   \n",
              "\n",
              "   ...       Sexo                            Profesión  \\\n",
              "0  ...  MASCULINO  PUBLICO                               \n",
              "1  ...  MASCULINO  PUBLICO                               \n",
              "2  ...  MASCULINO  PRIVADO                               \n",
              "3  ...  MASCULINO  PUBLICO                               \n",
              "4  ...   FEMENINO  PUBLICO                               \n",
              "\n",
              "                          Empresa  Cant. Solic. Vigentes  \\\n",
              "0  ADMINISTRACION NAL, DE CORREOS                      1   \n",
              "1  ADMINISTRACION NAL, DE CORREOS                      1   \n",
              "2  SUCESORES DE PEDRO WYAUX LARDO                      0   \n",
              "3  ADMINISTRACION NAL, DE CORREOS                      1   \n",
              "4  EDUCACION PRIMARIA                                  0   \n",
              "\n",
              "  Cant. Solic. Canceladas                    Departamento Localidad  \\\n",
              "0                      16  ARTIGAS                               BU   \n",
              "1                      16  ARTIGAS                               BU   \n",
              "2                       9  PAYSANDU                              PU   \n",
              "3                      16  ARTIGAS                               BU   \n",
              "4                       8  COLONIA                               CO   \n",
              "\n",
              "   Tipo de Venta  Capital en mano Origen  \n",
              "0            NaN          3000.00    NaN  \n",
              "1            NaN          4104.40    NaN  \n",
              "2            NaN          4000.00    NaN  \n",
              "3            NaN          2653.43    NaN  \n",
              "4            NaN          6000.00    NaN  \n",
              "\n",
              "[5 rows x 24 columns]"
            ],
            "text/html": [
              "\n",
              "  <div id=\"df-e285d86a-fc41-465e-b64b-f4b6600bf8aa\" class=\"colab-df-container\">\n",
              "    <div>\n",
              "<style scoped>\n",
              "    .dataframe tbody tr th:only-of-type {\n",
              "        vertical-align: middle;\n",
              "    }\n",
              "\n",
              "    .dataframe tbody tr th {\n",
              "        vertical-align: top;\n",
              "    }\n",
              "\n",
              "    .dataframe thead th {\n",
              "        text-align: right;\n",
              "    }\n",
              "</style>\n",
              "<table border=\"1\" class=\"dataframe\">\n",
              "  <thead>\n",
              "    <tr style=\"text-align: right;\">\n",
              "      <th></th>\n",
              "      <th>Cod Age</th>\n",
              "      <th>Agencia</th>\n",
              "      <th>ID_CI</th>\n",
              "      <th>Solicitud</th>\n",
              "      <th>Aceptada</th>\n",
              "      <th>Producto</th>\n",
              "      <th>Nombre</th>\n",
              "      <th>Tasa</th>\n",
              "      <th>Cap. solicitado</th>\n",
              "      <th>Cap. liquido</th>\n",
              "      <th>...</th>\n",
              "      <th>Sexo</th>\n",
              "      <th>Profesión</th>\n",
              "      <th>Empresa</th>\n",
              "      <th>Cant. Solic. Vigentes</th>\n",
              "      <th>Cant. Solic. Canceladas</th>\n",
              "      <th>Departamento</th>\n",
              "      <th>Localidad</th>\n",
              "      <th>Tipo de Venta</th>\n",
              "      <th>Capital en mano</th>\n",
              "      <th>Origen</th>\n",
              "    </tr>\n",
              "  </thead>\n",
              "  <tbody>\n",
              "    <tr>\n",
              "      <th>0</th>\n",
              "      <td>9</td>\n",
              "      <td>Bella Unión</td>\n",
              "      <td>7386</td>\n",
              "      <td>8351</td>\n",
              "      <td>2004-08-26</td>\n",
              "      <td>76</td>\n",
              "      <td>PROM JULIO/04 $3000</td>\n",
              "      <td>70.00</td>\n",
              "      <td>3195.0</td>\n",
              "      <td>3000.0</td>\n",
              "      <td>...</td>\n",
              "      <td>MASCULINO</td>\n",
              "      <td>PUBLICO</td>\n",
              "      <td>ADMINISTRACION NAL, DE CORREOS</td>\n",
              "      <td>1</td>\n",
              "      <td>16</td>\n",
              "      <td>ARTIGAS</td>\n",
              "      <td>BU</td>\n",
              "      <td>NaN</td>\n",
              "      <td>3000.00</td>\n",
              "      <td>NaN</td>\n",
              "    </tr>\n",
              "    <tr>\n",
              "      <th>1</th>\n",
              "      <td>9</td>\n",
              "      <td>Bella Unión</td>\n",
              "      <td>7386</td>\n",
              "      <td>13994</td>\n",
              "      <td>2005-03-21</td>\n",
              "      <td>52</td>\n",
              "      <td>BUEN CLIENTE 13-18 COOP,</td>\n",
              "      <td>63.47</td>\n",
              "      <td>5575.0</td>\n",
              "      <td>5000.0</td>\n",
              "      <td>...</td>\n",
              "      <td>MASCULINO</td>\n",
              "      <td>PUBLICO</td>\n",
              "      <td>ADMINISTRACION NAL, DE CORREOS</td>\n",
              "      <td>1</td>\n",
              "      <td>16</td>\n",
              "      <td>ARTIGAS</td>\n",
              "      <td>BU</td>\n",
              "      <td>NaN</td>\n",
              "      <td>4104.40</td>\n",
              "      <td>NaN</td>\n",
              "    </tr>\n",
              "    <tr>\n",
              "      <th>2</th>\n",
              "      <td>10</td>\n",
              "      <td>Paysandú</td>\n",
              "      <td>11854</td>\n",
              "      <td>15914</td>\n",
              "      <td>2005-05-10</td>\n",
              "      <td>49</td>\n",
              "      <td>STANDAR 07-12 COOP,</td>\n",
              "      <td>75.80</td>\n",
              "      <td>4500.0</td>\n",
              "      <td>4000.0</td>\n",
              "      <td>...</td>\n",
              "      <td>MASCULINO</td>\n",
              "      <td>PRIVADO</td>\n",
              "      <td>SUCESORES DE PEDRO WYAUX LARDO</td>\n",
              "      <td>0</td>\n",
              "      <td>9</td>\n",
              "      <td>PAYSANDU</td>\n",
              "      <td>PU</td>\n",
              "      <td>NaN</td>\n",
              "      <td>4000.00</td>\n",
              "      <td>NaN</td>\n",
              "    </tr>\n",
              "    <tr>\n",
              "      <th>3</th>\n",
              "      <td>9</td>\n",
              "      <td>Bella Unión</td>\n",
              "      <td>7386</td>\n",
              "      <td>25442</td>\n",
              "      <td>2005-11-17</td>\n",
              "      <td>127</td>\n",
              "      <td>PROMO 5000 SET 05</td>\n",
              "      <td>55.00</td>\n",
              "      <td>5225.0</td>\n",
              "      <td>5000.0</td>\n",
              "      <td>...</td>\n",
              "      <td>MASCULINO</td>\n",
              "      <td>PUBLICO</td>\n",
              "      <td>ADMINISTRACION NAL, DE CORREOS</td>\n",
              "      <td>1</td>\n",
              "      <td>16</td>\n",
              "      <td>ARTIGAS</td>\n",
              "      <td>BU</td>\n",
              "      <td>NaN</td>\n",
              "      <td>2653.43</td>\n",
              "      <td>NaN</td>\n",
              "    </tr>\n",
              "    <tr>\n",
              "      <th>4</th>\n",
              "      <td>8</td>\n",
              "      <td>Colonia</td>\n",
              "      <td>10116</td>\n",
              "      <td>26530</td>\n",
              "      <td>2005-12-06</td>\n",
              "      <td>134</td>\n",
              "      <td>PROMO NOV 05 6000</td>\n",
              "      <td>52.20</td>\n",
              "      <td>6270.0</td>\n",
              "      <td>6000.0</td>\n",
              "      <td>...</td>\n",
              "      <td>FEMENINO</td>\n",
              "      <td>PUBLICO</td>\n",
              "      <td>EDUCACION PRIMARIA</td>\n",
              "      <td>0</td>\n",
              "      <td>8</td>\n",
              "      <td>COLONIA</td>\n",
              "      <td>CO</td>\n",
              "      <td>NaN</td>\n",
              "      <td>6000.00</td>\n",
              "      <td>NaN</td>\n",
              "    </tr>\n",
              "  </tbody>\n",
              "</table>\n",
              "<p>5 rows × 24 columns</p>\n",
              "</div>\n",
              "    <div class=\"colab-df-buttons\">\n",
              "\n",
              "  <div class=\"colab-df-container\">\n",
              "    <button class=\"colab-df-convert\" onclick=\"convertToInteractive('df-e285d86a-fc41-465e-b64b-f4b6600bf8aa')\"\n",
              "            title=\"Convert this dataframe to an interactive table.\"\n",
              "            style=\"display:none;\">\n",
              "\n",
              "  <svg xmlns=\"http://www.w3.org/2000/svg\" height=\"24px\" viewBox=\"0 -960 960 960\">\n",
              "    <path d=\"M120-120v-720h720v720H120Zm60-500h600v-160H180v160Zm220 220h160v-160H400v160Zm0 220h160v-160H400v160ZM180-400h160v-160H180v160Zm440 0h160v-160H620v160ZM180-180h160v-160H180v160Zm440 0h160v-160H620v160Z\"/>\n",
              "  </svg>\n",
              "    </button>\n",
              "\n",
              "  <style>\n",
              "    .colab-df-container {\n",
              "      display:flex;\n",
              "      gap: 12px;\n",
              "    }\n",
              "\n",
              "    .colab-df-convert {\n",
              "      background-color: #E8F0FE;\n",
              "      border: none;\n",
              "      border-radius: 50%;\n",
              "      cursor: pointer;\n",
              "      display: none;\n",
              "      fill: #1967D2;\n",
              "      height: 32px;\n",
              "      padding: 0 0 0 0;\n",
              "      width: 32px;\n",
              "    }\n",
              "\n",
              "    .colab-df-convert:hover {\n",
              "      background-color: #E2EBFA;\n",
              "      box-shadow: 0px 1px 2px rgba(60, 64, 67, 0.3), 0px 1px 3px 1px rgba(60, 64, 67, 0.15);\n",
              "      fill: #174EA6;\n",
              "    }\n",
              "\n",
              "    .colab-df-buttons div {\n",
              "      margin-bottom: 4px;\n",
              "    }\n",
              "\n",
              "    [theme=dark] .colab-df-convert {\n",
              "      background-color: #3B4455;\n",
              "      fill: #D2E3FC;\n",
              "    }\n",
              "\n",
              "    [theme=dark] .colab-df-convert:hover {\n",
              "      background-color: #434B5C;\n",
              "      box-shadow: 0px 1px 3px 1px rgba(0, 0, 0, 0.15);\n",
              "      filter: drop-shadow(0px 1px 2px rgba(0, 0, 0, 0.3));\n",
              "      fill: #FFFFFF;\n",
              "    }\n",
              "  </style>\n",
              "\n",
              "    <script>\n",
              "      const buttonEl =\n",
              "        document.querySelector('#df-e285d86a-fc41-465e-b64b-f4b6600bf8aa button.colab-df-convert');\n",
              "      buttonEl.style.display =\n",
              "        google.colab.kernel.accessAllowed ? 'block' : 'none';\n",
              "\n",
              "      async function convertToInteractive(key) {\n",
              "        const element = document.querySelector('#df-e285d86a-fc41-465e-b64b-f4b6600bf8aa');\n",
              "        const dataTable =\n",
              "          await google.colab.kernel.invokeFunction('convertToInteractive',\n",
              "                                                    [key], {});\n",
              "        if (!dataTable) return;\n",
              "\n",
              "        const docLinkHtml = 'Like what you see? Visit the ' +\n",
              "          '<a target=\"_blank\" href=https://colab.research.google.com/notebooks/data_table.ipynb>data table notebook</a>'\n",
              "          + ' to learn more about interactive tables.';\n",
              "        element.innerHTML = '';\n",
              "        dataTable['output_type'] = 'display_data';\n",
              "        await google.colab.output.renderOutput(dataTable, element);\n",
              "        const docLink = document.createElement('div');\n",
              "        docLink.innerHTML = docLinkHtml;\n",
              "        element.appendChild(docLink);\n",
              "      }\n",
              "    </script>\n",
              "  </div>\n",
              "\n",
              "\n",
              "<div id=\"df-aaf288bf-3bc2-4046-addc-d011a69263ed\">\n",
              "  <button class=\"colab-df-quickchart\" onclick=\"quickchart('df-aaf288bf-3bc2-4046-addc-d011a69263ed')\"\n",
              "            title=\"Suggest charts\"\n",
              "            style=\"display:none;\">\n",
              "\n",
              "<svg xmlns=\"http://www.w3.org/2000/svg\" height=\"24px\"viewBox=\"0 0 24 24\"\n",
              "     width=\"24px\">\n",
              "    <g>\n",
              "        <path d=\"M19 3H5c-1.1 0-2 .9-2 2v14c0 1.1.9 2 2 2h14c1.1 0 2-.9 2-2V5c0-1.1-.9-2-2-2zM9 17H7v-7h2v7zm4 0h-2V7h2v10zm4 0h-2v-4h2v4z\"/>\n",
              "    </g>\n",
              "</svg>\n",
              "  </button>\n",
              "\n",
              "<style>\n",
              "  .colab-df-quickchart {\n",
              "      --bg-color: #E8F0FE;\n",
              "      --fill-color: #1967D2;\n",
              "      --hover-bg-color: #E2EBFA;\n",
              "      --hover-fill-color: #174EA6;\n",
              "      --disabled-fill-color: #AAA;\n",
              "      --disabled-bg-color: #DDD;\n",
              "  }\n",
              "\n",
              "  [theme=dark] .colab-df-quickchart {\n",
              "      --bg-color: #3B4455;\n",
              "      --fill-color: #D2E3FC;\n",
              "      --hover-bg-color: #434B5C;\n",
              "      --hover-fill-color: #FFFFFF;\n",
              "      --disabled-bg-color: #3B4455;\n",
              "      --disabled-fill-color: #666;\n",
              "  }\n",
              "\n",
              "  .colab-df-quickchart {\n",
              "    background-color: var(--bg-color);\n",
              "    border: none;\n",
              "    border-radius: 50%;\n",
              "    cursor: pointer;\n",
              "    display: none;\n",
              "    fill: var(--fill-color);\n",
              "    height: 32px;\n",
              "    padding: 0;\n",
              "    width: 32px;\n",
              "  }\n",
              "\n",
              "  .colab-df-quickchart:hover {\n",
              "    background-color: var(--hover-bg-color);\n",
              "    box-shadow: 0 1px 2px rgba(60, 64, 67, 0.3), 0 1px 3px 1px rgba(60, 64, 67, 0.15);\n",
              "    fill: var(--button-hover-fill-color);\n",
              "  }\n",
              "\n",
              "  .colab-df-quickchart-complete:disabled,\n",
              "  .colab-df-quickchart-complete:disabled:hover {\n",
              "    background-color: var(--disabled-bg-color);\n",
              "    fill: var(--disabled-fill-color);\n",
              "    box-shadow: none;\n",
              "  }\n",
              "\n",
              "  .colab-df-spinner {\n",
              "    border: 2px solid var(--fill-color);\n",
              "    border-color: transparent;\n",
              "    border-bottom-color: var(--fill-color);\n",
              "    animation:\n",
              "      spin 1s steps(1) infinite;\n",
              "  }\n",
              "\n",
              "  @keyframes spin {\n",
              "    0% {\n",
              "      border-color: transparent;\n",
              "      border-bottom-color: var(--fill-color);\n",
              "      border-left-color: var(--fill-color);\n",
              "    }\n",
              "    20% {\n",
              "      border-color: transparent;\n",
              "      border-left-color: var(--fill-color);\n",
              "      border-top-color: var(--fill-color);\n",
              "    }\n",
              "    30% {\n",
              "      border-color: transparent;\n",
              "      border-left-color: var(--fill-color);\n",
              "      border-top-color: var(--fill-color);\n",
              "      border-right-color: var(--fill-color);\n",
              "    }\n",
              "    40% {\n",
              "      border-color: transparent;\n",
              "      border-right-color: var(--fill-color);\n",
              "      border-top-color: var(--fill-color);\n",
              "    }\n",
              "    60% {\n",
              "      border-color: transparent;\n",
              "      border-right-color: var(--fill-color);\n",
              "    }\n",
              "    80% {\n",
              "      border-color: transparent;\n",
              "      border-right-color: var(--fill-color);\n",
              "      border-bottom-color: var(--fill-color);\n",
              "    }\n",
              "    90% {\n",
              "      border-color: transparent;\n",
              "      border-bottom-color: var(--fill-color);\n",
              "    }\n",
              "  }\n",
              "</style>\n",
              "\n",
              "  <script>\n",
              "    async function quickchart(key) {\n",
              "      const quickchartButtonEl =\n",
              "        document.querySelector('#' + key + ' button');\n",
              "      quickchartButtonEl.disabled = true;  // To prevent multiple clicks.\n",
              "      quickchartButtonEl.classList.add('colab-df-spinner');\n",
              "      try {\n",
              "        const charts = await google.colab.kernel.invokeFunction(\n",
              "            'suggestCharts', [key], {});\n",
              "      } catch (error) {\n",
              "        console.error('Error during call to suggestCharts:', error);\n",
              "      }\n",
              "      quickchartButtonEl.classList.remove('colab-df-spinner');\n",
              "      quickchartButtonEl.classList.add('colab-df-quickchart-complete');\n",
              "    }\n",
              "    (() => {\n",
              "      let quickchartButtonEl =\n",
              "        document.querySelector('#df-aaf288bf-3bc2-4046-addc-d011a69263ed button');\n",
              "      quickchartButtonEl.style.display =\n",
              "        google.colab.kernel.accessAllowed ? 'block' : 'none';\n",
              "    })();\n",
              "  </script>\n",
              "</div>\n",
              "\n",
              "    </div>\n",
              "  </div>\n"
            ],
            "application/vnd.google.colaboratory.intrinsic+json": {
              "type": "dataframe",
              "variable_name": "df"
            }
          },
          "metadata": {},
          "execution_count": 17
        }
      ]
    },
    {
      "cell_type": "markdown",
      "source": [
        "predecir si un cliente incumplirá en sus pagos\n",
        "\n",
        "Preparación de Datos\n",
        "Incluye: ✅ Carga y unión de datos: Como las tablas están relacionadas por ID_CI, debemos unirlas.\n",
        "✅ Selección de variables relevantes: Debemos elegir características (X) que puedan influir en la variable objetivo (y).\n",
        "✅ Limpieza y transformación: Manejar valores nulos, codificar variables categóricas y normalizar datos numéricos.\n",
        "✅ División en entrenamiento y prueba"
      ],
      "metadata": {
        "id": "zHaGlAVOGzbS"
      }
    },
    {
      "cell_type": "code",
      "source": [
        "import pandas as pd\n",
        "import numpy as np\n",
        "from sklearn.model_selection import train_test_split\n",
        "from sklearn.preprocessing import StandardScaler, LabelEncoder\n",
        "\n",
        "# Cargar el dataset desde el archivo Excel\n",
        "file_path = \"/content/drive/MyDrive/Colab Notebooks/100 casos.xlsx\"\n",
        "df_dict = pd.read_excel(file_path, sheet_name=None)\n",
        "\n",
        "# Unir datos en un solo DataFrame\n",
        "df = df_dict[\"SOLICITU\"].merge(df_dict[\"CLEARING\"], on=\"ID_CI\", how=\"left\")\n",
        "df = df.merge(df_dict[\"CLIENTE\"], on=\"ID_CI\", how=\"left\")\n",
        "\n",
        "# Variables predictoras (X) y variable objetivo (y)\n",
        "X = df[[\"SolCapital\", \"SolCuotas\", \"CliIngLiq\", \"CleTCons\"]]  # Puedes agregar más\n",
        "y = df[\"CleTIncum\"]  # Variable a predecir\n",
        "\n",
        "# Eliminar filas con valores nulos\n",
        "df.dropna(subset=[\"CleTIncum\"], inplace=True)\n",
        "\n",
        "# Convertir variables categóricas si es necesario\n",
        "encoder = LabelEncoder()\n",
        "if df[\"CleTIncum\"].dtype == \"object\":\n",
        "    df[\"CleTIncum\"] = encoder.fit_transform(df[\"CleTIncum\"])\n",
        "\n",
        "# Normalizar datos numéricos\n",
        "scaler = StandardScaler()\n",
        "X = scaler.fit_transform(X)\n",
        "\n",
        "# Dividir en datos de entrenamiento (80%) y prueba (20%)\n",
        "X_train, X_test, y_train, y_test = train_test_split(X, y, test_size=0.2, random_state=42)\n"
      ],
      "metadata": {
        "id": "nOcJf5gAIPPI"
      },
      "execution_count": 18,
      "outputs": []
    },
    {
      "cell_type": "code",
      "source": [
        "# Eliminar filas donde CleTIncum es NaN antes de definir X e y\n",
        "df = df.dropna(subset=[\"CleTIncum\"])\n",
        "\n",
        "# Definir variables predictoras (X) y objetivo (y)\n",
        "X = df[[\"SolCapital\", \"SolCuotas\", \"CliIngLiq\", \"CleTCons\"]]\n",
        "y = df[\"CleTIncum\"]\n",
        "\n",
        "# Convertir variable objetivo a numérica si es necesario\n",
        "encoder = LabelEncoder()\n",
        "if y.dtype == \"object\":\n",
        "    y = encoder.fit_transform(y)\n",
        "\n",
        "# Normalizar datos numéricos\n",
        "scaler = StandardScaler()\n",
        "X = scaler.fit_transform(X)\n",
        "\n",
        "# Dividir en datos de entrenamiento y prueba\n",
        "X_train, X_test, y_train, y_test = train_test_split(X, y, test_size=0.2, random_state=42)\n",
        "\n",
        "# Verificar si aún quedan NaN en y_train\n",
        "print(\"Valores NaN en y_train:\", pd.Series(y_train).isna().sum())\n"
      ],
      "metadata": {
        "colab": {
          "base_uri": "https://localhost:8080/"
        },
        "id": "pr_NDYWQMvUb",
        "outputId": "d037ddff-2138-4206-b60c-fe876cf88ac2"
      },
      "execution_count": 20,
      "outputs": [
        {
          "output_type": "stream",
          "name": "stdout",
          "text": [
            "Valores NaN en y_train: 0\n"
          ]
        }
      ]
    },
    {
      "cell_type": "markdown",
      "source": [
        "Entrenar un Modelo de Machine Learning\n",
        "Usaremos un Random Forest como modelo inicial."
      ],
      "metadata": {
        "id": "NT6Zc2jbIVW0"
      }
    },
    {
      "cell_type": "code",
      "source": [
        "from sklearn.ensemble import RandomForestClassifier\n",
        "from sklearn.metrics import accuracy_score, classification_report\n",
        "\n",
        "# Crear y entrenar el modelo\n",
        "model = RandomForestClassifier(n_estimators=100, random_state=42)\n",
        "model.fit(X_train, y_train)\n",
        "\n",
        "# Predicción en datos de prueba\n",
        "y_pred = model.predict(X_test)\n",
        "\n",
        "# Evaluación del modelo\n",
        "accuracy = accuracy_score(y_test, y_pred)\n",
        "print(f\"Precisión del modelo: {accuracy:.2f}\")\n",
        "print(classification_report(y_test, y_pred))\n"
      ],
      "metadata": {
        "colab": {
          "base_uri": "https://localhost:8080/"
        },
        "id": "POLvuWKCIcxw",
        "outputId": "6573099f-06b7-4324-8236-6bb37c12a821"
      },
      "execution_count": 21,
      "outputs": [
        {
          "output_type": "stream",
          "name": "stdout",
          "text": [
            "Precisión del modelo: 0.98\n",
            "              precision    recall  f1-score   support\n",
            "\n",
            "         0.0       0.99      1.00      0.99      1733\n",
            "         1.0       0.72      0.67      0.69        27\n",
            "         2.0       0.91      0.45      0.61        22\n",
            "         3.0       0.00      0.00      0.00         8\n",
            "\n",
            "    accuracy                           0.98      1790\n",
            "   macro avg       0.65      0.53      0.57      1790\n",
            "weighted avg       0.98      0.98      0.98      1790\n",
            "\n"
          ]
        }
      ]
    },
    {
      "cell_type": "markdown",
      "source": [
        "La Regresión Logística es útil cuando queremos predecir una variable categórica binaria, como si un cliente incumplirá o no en sus pagos."
      ],
      "metadata": {
        "id": "6CwOg1sPIf7T"
      }
    },
    {
      "cell_type": "code",
      "source": [],
      "metadata": {
        "id": "vMOpQW9CI7R9"
      },
      "execution_count": null,
      "outputs": []
    },
    {
      "cell_type": "markdown",
      "source": [
        "Preparación de Datos\n",
        "Vamos a predecir si un cliente tendrá incumplimientos (CleTIncum)."
      ],
      "metadata": {
        "id": "2_T93X32I-GU"
      }
    },
    {
      "cell_type": "code",
      "source": [
        "import pandas as pd\n",
        "import numpy as np\n",
        "from sklearn.model_selection import train_test_split\n",
        "from sklearn.preprocessing import StandardScaler, LabelEncoder\n",
        "from sklearn.linear_model import LogisticRegression\n",
        "from sklearn.metrics import accuracy_score, classification_report\n",
        "\n",
        "# Cargar el dataset desde el archivo Excel\n",
        "file_path = \"/content/drive/MyDrive/Colab Notebooks/100 casos.xlsx\"\n",
        "df_dict = pd.read_excel(file_path, sheet_name=None)\n",
        "\n",
        "# Unir datos de interés en un solo DataFrame\n",
        "df = df_dict[\"SOLICITU\"].merge(df_dict[\"CLEARING\"], on=\"ID_CI\", how=\"left\")\n",
        "df = df.merge(df_dict[\"CLIENTE\"], on=\"ID_CI\", how=\"left\")\n",
        "\n",
        "# Seleccionar variables predictoras (X) y variable objetivo (y)\n",
        "X = df[[\"SolCapital\", \"SolCuotas\", \"CliIngLiq\", \"CleTCons\"]]  # Puedes agregar más\n",
        "y = df[\"CleTIncum\"]  # Variable a predecir (1 = Incumplió, 0 = No incumplió)\n",
        "\n",
        "# Eliminar filas con valores nulos\n",
        "df.dropna(subset=[\"CleTIncum\"], inplace=True)\n",
        "\n",
        "# Convertir variable objetivo a numérica si es necesario\n",
        "encoder = LabelEncoder()\n",
        "if y.dtype == \"object\":\n",
        "    y = encoder.fit_transform(y)\n",
        "\n",
        "# Normalizar datos numéricos\n",
        "scaler = StandardScaler()\n",
        "X = scaler.fit_transform(X)\n",
        "\n",
        "# Dividir en datos de entrenamiento (80%) y prueba (20%)\n",
        "X_train, X_test, y_train, y_test = train_test_split(X, y, test_size=0.2, random_state=42)\n"
      ],
      "metadata": {
        "id": "nW28WWEZI_Cl"
      },
      "execution_count": 23,
      "outputs": []
    },
    {
      "cell_type": "code",
      "source": [
        "# Eliminar filas donde CleTIncum es NaN antes de definir X e y\n",
        "df = df.dropna(subset=[\"CleTIncum\"])\n",
        "\n",
        "# Definir variables predictoras (X) y objetivo (y)\n",
        "X = df[[\"SolCapital\", \"SolCuotas\", \"CliIngLiq\", \"CleTCons\"]]\n",
        "y = df[\"CleTIncum\"]\n",
        "\n",
        "# Convertir variable objetivo a numérica si es necesario\n",
        "encoder = LabelEncoder()\n",
        "if y.dtype == \"object\":\n",
        "    y = encoder.fit_transform(y)\n",
        "\n",
        "# Normalizar datos numéricos\n",
        "scaler = StandardScaler()\n",
        "X = scaler.fit_transform(X)\n",
        "\n",
        "# Dividir en datos de entrenamiento y prueba\n",
        "X_train, X_test, y_train, y_test = train_test_split(X, y, test_size=0.2, random_state=42)\n",
        "\n",
        "# Verificar si aún quedan NaN en y_train\n",
        "print(\"Valores NaN en y_train:\", pd.Series(y_train).isna().sum())\n"
      ],
      "metadata": {
        "colab": {
          "base_uri": "https://localhost:8080/"
        },
        "id": "mjRB5tBBNQKk",
        "outputId": "a04df0a2-0316-46af-e66a-c7b7bdcdba15"
      },
      "execution_count": 24,
      "outputs": [
        {
          "output_type": "stream",
          "name": "stdout",
          "text": [
            "Valores NaN en y_train: 0\n"
          ]
        }
      ]
    },
    {
      "cell_type": "markdown",
      "source": [
        "Entrenar el Modelo de Regresión Logística"
      ],
      "metadata": {
        "id": "MMUvuzivJCJa"
      }
    },
    {
      "cell_type": "code",
      "source": [
        "# Crear y entrenar el modelo\n",
        "model = LogisticRegression()\n",
        "model.fit(X_train, y_train)\n",
        "\n",
        "# Hacer predicciones\n",
        "y_pred = model.predict(X_test)\n",
        "\n",
        "# Evaluar el modelo\n",
        "accuracy = accuracy_score(y_test, y_pred)\n",
        "print(f\"Precisión del modelo: {accuracy:.2f}\")\n",
        "print(classification_report(y_test, y_pred))\n"
      ],
      "metadata": {
        "colab": {
          "base_uri": "https://localhost:8080/"
        },
        "id": "KILqySqOJHGn",
        "outputId": "a3012544-4ad8-4386-c114-099cd39de289"
      },
      "execution_count": 25,
      "outputs": [
        {
          "output_type": "stream",
          "name": "stdout",
          "text": [
            "Precisión del modelo: 0.97\n",
            "              precision    recall  f1-score   support\n",
            "\n",
            "         0.0       0.97      1.00      0.98      1733\n",
            "         1.0       0.00      0.00      0.00        27\n",
            "         2.0       0.00      0.00      0.00        22\n",
            "         3.0       0.00      0.00      0.00         8\n",
            "\n",
            "    accuracy                           0.97      1790\n",
            "   macro avg       0.24      0.25      0.25      1790\n",
            "weighted avg       0.94      0.97      0.95      1790\n",
            "\n"
          ]
        },
        {
          "output_type": "stream",
          "name": "stderr",
          "text": [
            "/usr/local/lib/python3.11/dist-packages/sklearn/metrics/_classification.py:1565: UndefinedMetricWarning: Precision is ill-defined and being set to 0.0 in labels with no predicted samples. Use `zero_division` parameter to control this behavior.\n",
            "  _warn_prf(average, modifier, f\"{metric.capitalize()} is\", len(result))\n",
            "/usr/local/lib/python3.11/dist-packages/sklearn/metrics/_classification.py:1565: UndefinedMetricWarning: Precision is ill-defined and being set to 0.0 in labels with no predicted samples. Use `zero_division` parameter to control this behavior.\n",
            "  _warn_prf(average, modifier, f\"{metric.capitalize()} is\", len(result))\n",
            "/usr/local/lib/python3.11/dist-packages/sklearn/metrics/_classification.py:1565: UndefinedMetricWarning: Precision is ill-defined and being set to 0.0 in labels with no predicted samples. Use `zero_division` parameter to control this behavior.\n",
            "  _warn_prf(average, modifier, f\"{metric.capitalize()} is\", len(result))\n"
          ]
        }
      ]
    },
    {
      "cell_type": "markdown",
      "source": [],
      "metadata": {
        "id": "ngxQYp2iJJZV"
      }
    }
  ]
}